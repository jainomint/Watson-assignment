{
 "cells": [
  {
   "cell_type": "markdown",
   "id": "0833007c",
   "metadata": {},
   "source": [
    "<h1>My Jupyter Notebook on IBM Watson Studio<h1>"
   ]
  },
  {
   "cell_type": "markdown",
   "id": "d81b6a6c",
   "metadata": {},
   "source": [
    "# Nwangwu Ikenna Augustine\n",
    "\n",
    "I am currently studying Applied Data Science In University of Sunderland, United Kingdom  "
   ]
  },
  {
   "cell_type": "markdown",
   "id": "d4467373",
   "metadata": {},
   "source": [
    "_I am interested in Data science because, mainly looking at which a lot of companies and institution is searching \n",
    "for the people that are into data science, you will understand that data science is a popular demand in IT industry.And this simply means that data scientists are needed in almost all the sectors. and because of this reason I decided\n",
    "to further my career in data science._      "
   ]
  },
  {
   "cell_type": "markdown",
   "id": "5133a59e",
   "metadata": {},
   "source": [
    "<h3> on this cold below, i just assign 50 to 'a' variable\n",
    "and 80 to 'b' variable,then it calculates the product of 'a and b'\n",
    "and assign the result to the variable c. finally, it print the value of c<h3>"
   ]
  },
  {
   "cell_type": "code",
   "execution_count": 2,
   "id": "99de2954",
   "metadata": {},
   "outputs": [
    {
     "name": "stdout",
     "output_type": "stream",
     "text": [
      "4000\n"
     ]
    }
   ],
   "source": [
    "a = 50\n",
    "\n",
    "b = 80\n",
    "\n",
    "c = (a * b)\n",
    "\n",
    "print(c)"
   ]
  },
  {
   "cell_type": "markdown",
   "id": "8b722883",
   "metadata": {},
   "source": [
    "#### Theses are the things I did on this assignment"
   ]
  },
  {
   "cell_type": "markdown",
   "id": "52f31f41",
   "metadata": {},
   "source": [
    "- I create a markdown cell with title H1 header style\n",
    "- I create a markdown cell that includes my name and my occupation\n",
    "- I create a markdown cell in _italic_ format to explain why i choose data science\n",
    "- I create a markdown cell to explain the arithmetic code\n",
    "- I write a code to show the result of the code "
   ]
  },
  {
   "cell_type": "markdown",
   "id": "0373113c",
   "metadata": {},
   "source": [
    "<h3>I was not able to open my watson cloud account because i am having login issue which i was not able to resolve,\n",
    "I then did the assignment on my Jupyter Notebook<h3>   "
   ]
  },
  {
   "cell_type": "code",
   "execution_count": null,
   "id": "208fdeaa",
   "metadata": {},
   "outputs": [],
   "source": []
  }
 ],
 "metadata": {
  "kernelspec": {
   "display_name": "Python 3 (ipykernel)",
   "language": "python",
   "name": "python3"
  },
  "language_info": {
   "codemirror_mode": {
    "name": "ipython",
    "version": 3
   },
   "file_extension": ".py",
   "mimetype": "text/x-python",
   "name": "python",
   "nbconvert_exporter": "python",
   "pygments_lexer": "ipython3",
   "version": "3.11.5"
  }
 },
 "nbformat": 4,
 "nbformat_minor": 5
}
